{
  "nbformat": 4,
  "nbformat_minor": 0,
  "metadata": {
    "colab": {
      "provenance": [],
      "authorship_tag": "ABX9TyPHpAzvS3wodn7nGw9V6Nko",
      "include_colab_link": true
    },
    "kernelspec": {
      "name": "python3",
      "display_name": "Python 3"
    },
    "language_info": {
      "name": "python"
    }
  },
  "cells": [
    {
      "cell_type": "markdown",
      "metadata": {
        "id": "view-in-github",
        "colab_type": "text"
      },
      "source": [
        "<a href=\"https://colab.research.google.com/github/HassenJebali/DeepLearning-Project/blob/main/Classification_d%E2%80%99images_avec_PyTorch.ipynb\" target=\"_parent\"><img src=\"https://colab.research.google.com/assets/colab-badge.svg\" alt=\"Open In Colab\"/></a>"
      ]
    },
    {
      "cell_type": "code",
      "execution_count": 1,
      "metadata": {
        "colab": {
          "base_uri": "https://localhost:8080/"
        },
        "id": "VTBHhuCixk44",
        "outputId": "596b9b6d-b766-41ce-bd09-830f3f6566c8"
      },
      "outputs": [
        {
          "output_type": "stream",
          "name": "stderr",
          "text": [
            "100%|██████████| 9.91M/9.91M [00:01<00:00, 6.08MB/s]\n",
            "100%|██████████| 28.9k/28.9k [00:00<00:00, 161kB/s]\n",
            "100%|██████████| 1.65M/1.65M [00:01<00:00, 1.30MB/s]\n",
            "100%|██████████| 4.54k/4.54k [00:00<00:00, 6.12MB/s]\n"
          ]
        }
      ],
      "source": [
        "from torchvision import datasets, transforms\n",
        "\n",
        "transform = transforms.Compose([\n",
        "    transforms.ToTensor(),\n",
        "    transforms.Normalize((0.1307,), (0.3081,))\n",
        "])\n",
        "\n",
        "train_data = datasets.MNIST(root='data', train=True, download=True, transform=transform)\n",
        "test_data = datasets.MNIST(root='data', train=False, download=True, transform=transform)\n"
      ]
    },
    {
      "cell_type": "code",
      "source": [
        "from torch.utils.data import DataLoader\n",
        "\n",
        "train_loader = DataLoader(train_data, batch_size=64, shuffle=True)\n",
        "test_loader = DataLoader(test_data, batch_size=1000, shuffle=False)"
      ],
      "metadata": {
        "id": "VB7CJsZfzOgI"
      },
      "execution_count": 4,
      "outputs": []
    },
    {
      "cell_type": "code",
      "source": [
        "import torch.nn as nn\n",
        "import torch.nn.functional as F\n",
        "\n",
        "class CNN(nn.Module):\n",
        "    def __init__(self):\n",
        "        super(CNN, self).__init__()\n",
        "        self.conv1 = nn.Conv2d(1, 16, kernel_size=3, padding=1)\n",
        "        self.conv2 = nn.Conv2d(16, 32, kernel_size=3, padding=1)\n",
        "        self.pool = nn.MaxPool2d(2, 2)\n",
        "        self.fc1 = nn.Linear(32 * 7 * 7, 128)\n",
        "        self.fc2 = nn.Linear(128, 10)\n",
        "\n",
        "    def forward(self, x):\n",
        "        x = self.pool(F.relu(self.conv1(x)))   # [batch, 16, 14, 14]\n",
        "        x = self.pool(F.relu(self.conv2(x)))   # [batch, 32, 7, 7]\n",
        "        x = x.view(-1, 32 * 7 * 7)\n",
        "        x = F.relu(self.fc1(x))\n",
        "        x = self.fc2(x)\n",
        "        return x\n"
      ],
      "metadata": {
        "id": "ANBdVpDbzZ_l"
      },
      "execution_count": 5,
      "outputs": []
    },
    {
      "cell_type": "code",
      "source": [
        "import torch\n",
        "\n",
        "device = torch.device(\"cuda\" if torch.cuda.is_available() else \"cpu\")\n",
        "model = CNN().to(device)\n",
        "optimizer = optim.Adam(model.parameters(), lr=0.001)\n",
        "criterion = nn.CrossEntropyLoss()\n",
        "\n",
        "for epoch in range(10):\n",
        "    model.train()\n",
        "    running_loss = 0\n",
        "    for images, labels in train_loader:\n",
        "        images, labels = images.to(device), labels.to(device)\n",
        "\n",
        "        optimizer.zero_grad()\n",
        "        outputs = model(images)\n",
        "        loss = criterion(outputs, labels)\n",
        "        loss.backward()\n",
        "        optimizer.step()\n",
        "\n",
        "        running_loss += loss.item()\n",
        "\n",
        "    print(f\"Epoch {epoch+1} - Loss: {running_loss/len(train_loader):.4f}\")\n"
      ],
      "metadata": {
        "colab": {
          "base_uri": "https://localhost:8080/"
        },
        "id": "XUyKzpB_zkdK",
        "outputId": "801b9e98-1656-494f-dc70-611c510b8cd7"
      },
      "execution_count": 7,
      "outputs": [
        {
          "output_type": "stream",
          "name": "stdout",
          "text": [
            "Epoch 1 - Loss: 0.1543\n",
            "Epoch 2 - Loss: 0.0458\n",
            "Epoch 3 - Loss: 0.0315\n",
            "Epoch 4 - Loss: 0.0240\n",
            "Epoch 5 - Loss: 0.0180\n",
            "Epoch 6 - Loss: 0.0146\n",
            "Epoch 7 - Loss: 0.0111\n",
            "Epoch 8 - Loss: 0.0097\n",
            "Epoch 9 - Loss: 0.0086\n",
            "Epoch 10 - Loss: 0.0069\n"
          ]
        }
      ]
    },
    {
      "cell_type": "code",
      "source": [
        "from sklearn.metrics import accuracy_score, confusion_matrix\n",
        "import numpy as np\n",
        "\n",
        "model.eval()\n",
        "all_preds = []\n",
        "all_labels = []\n",
        "\n",
        "with torch.no_grad():\n",
        "    for images, labels in test_loader:\n",
        "        images, labels = images.to(device), labels.to(device)\n",
        "        outputs = model(images)\n",
        "        _, preds = torch.max(outputs, 1)\n",
        "        all_preds.extend(preds.cpu().numpy())\n",
        "        all_labels.extend(labels.cpu().numpy())\n",
        "\n",
        "accuracy = accuracy_score(all_labels, all_preds)\n",
        "print(f\"Test Accuracy: {accuracy * 100:.2f}%\")\n",
        "\n"
      ],
      "metadata": {
        "colab": {
          "base_uri": "https://localhost:8080/"
        },
        "id": "5VE0GPQLzpJW",
        "outputId": "86259e65-0b86-410b-cbd1-7dd06c5db8d7"
      },
      "execution_count": 8,
      "outputs": [
        {
          "output_type": "stream",
          "name": "stdout",
          "text": [
            "Test Accuracy: 99.05%\n"
          ]
        }
      ]
    },
    {
      "cell_type": "code",
      "source": [
        "!pip install torchviz\n",
        "\n",
        "\n"
      ],
      "metadata": {
        "colab": {
          "base_uri": "https://localhost:8080/"
        },
        "id": "V8ioZ6nu9gOE",
        "outputId": "af7aadd4-2d11-4f41-b044-766fec526c08"
      },
      "execution_count": 13,
      "outputs": [
        {
          "output_type": "stream",
          "name": "stdout",
          "text": [
            "Collecting torchviz\n",
            "  Downloading torchviz-0.0.3-py3-none-any.whl.metadata (2.1 kB)\n",
            "Requirement already satisfied: torch in /usr/local/lib/python3.11/dist-packages (from torchviz) (2.6.0+cu124)\n",
            "Requirement already satisfied: graphviz in /usr/local/lib/python3.11/dist-packages (from torchviz) (0.21)\n",
            "Requirement already satisfied: filelock in /usr/local/lib/python3.11/dist-packages (from torch->torchviz) (3.18.0)\n",
            "Requirement already satisfied: typing-extensions>=4.10.0 in /usr/local/lib/python3.11/dist-packages (from torch->torchviz) (4.14.0)\n",
            "Requirement already satisfied: networkx in /usr/local/lib/python3.11/dist-packages (from torch->torchviz) (3.5)\n",
            "Requirement already satisfied: jinja2 in /usr/local/lib/python3.11/dist-packages (from torch->torchviz) (3.1.6)\n",
            "Requirement already satisfied: fsspec in /usr/local/lib/python3.11/dist-packages (from torch->torchviz) (2025.3.2)\n",
            "Collecting nvidia-cuda-nvrtc-cu12==12.4.127 (from torch->torchviz)\n",
            "  Downloading nvidia_cuda_nvrtc_cu12-12.4.127-py3-none-manylinux2014_x86_64.whl.metadata (1.5 kB)\n",
            "Collecting nvidia-cuda-runtime-cu12==12.4.127 (from torch->torchviz)\n",
            "  Downloading nvidia_cuda_runtime_cu12-12.4.127-py3-none-manylinux2014_x86_64.whl.metadata (1.5 kB)\n",
            "Collecting nvidia-cuda-cupti-cu12==12.4.127 (from torch->torchviz)\n",
            "  Downloading nvidia_cuda_cupti_cu12-12.4.127-py3-none-manylinux2014_x86_64.whl.metadata (1.6 kB)\n",
            "Collecting nvidia-cudnn-cu12==9.1.0.70 (from torch->torchviz)\n",
            "  Downloading nvidia_cudnn_cu12-9.1.0.70-py3-none-manylinux2014_x86_64.whl.metadata (1.6 kB)\n",
            "Collecting nvidia-cublas-cu12==12.4.5.8 (from torch->torchviz)\n",
            "  Downloading nvidia_cublas_cu12-12.4.5.8-py3-none-manylinux2014_x86_64.whl.metadata (1.5 kB)\n",
            "Collecting nvidia-cufft-cu12==11.2.1.3 (from torch->torchviz)\n",
            "  Downloading nvidia_cufft_cu12-11.2.1.3-py3-none-manylinux2014_x86_64.whl.metadata (1.5 kB)\n",
            "Collecting nvidia-curand-cu12==10.3.5.147 (from torch->torchviz)\n",
            "  Downloading nvidia_curand_cu12-10.3.5.147-py3-none-manylinux2014_x86_64.whl.metadata (1.5 kB)\n",
            "Collecting nvidia-cusolver-cu12==11.6.1.9 (from torch->torchviz)\n",
            "  Downloading nvidia_cusolver_cu12-11.6.1.9-py3-none-manylinux2014_x86_64.whl.metadata (1.6 kB)\n",
            "Collecting nvidia-cusparse-cu12==12.3.1.170 (from torch->torchviz)\n",
            "  Downloading nvidia_cusparse_cu12-12.3.1.170-py3-none-manylinux2014_x86_64.whl.metadata (1.6 kB)\n",
            "Requirement already satisfied: nvidia-cusparselt-cu12==0.6.2 in /usr/local/lib/python3.11/dist-packages (from torch->torchviz) (0.6.2)\n",
            "Requirement already satisfied: nvidia-nccl-cu12==2.21.5 in /usr/local/lib/python3.11/dist-packages (from torch->torchviz) (2.21.5)\n",
            "Requirement already satisfied: nvidia-nvtx-cu12==12.4.127 in /usr/local/lib/python3.11/dist-packages (from torch->torchviz) (12.4.127)\n",
            "Collecting nvidia-nvjitlink-cu12==12.4.127 (from torch->torchviz)\n",
            "  Downloading nvidia_nvjitlink_cu12-12.4.127-py3-none-manylinux2014_x86_64.whl.metadata (1.5 kB)\n",
            "Requirement already satisfied: triton==3.2.0 in /usr/local/lib/python3.11/dist-packages (from torch->torchviz) (3.2.0)\n",
            "Requirement already satisfied: sympy==1.13.1 in /usr/local/lib/python3.11/dist-packages (from torch->torchviz) (1.13.1)\n",
            "Requirement already satisfied: mpmath<1.4,>=1.1.0 in /usr/local/lib/python3.11/dist-packages (from sympy==1.13.1->torch->torchviz) (1.3.0)\n",
            "Requirement already satisfied: MarkupSafe>=2.0 in /usr/local/lib/python3.11/dist-packages (from jinja2->torch->torchviz) (3.0.2)\n",
            "Downloading torchviz-0.0.3-py3-none-any.whl (5.7 kB)\n",
            "Downloading nvidia_cublas_cu12-12.4.5.8-py3-none-manylinux2014_x86_64.whl (363.4 MB)\n",
            "\u001b[2K   \u001b[90m━━━━━━━━━━━━━━━━━━━━━━━━━━━━━━━━━━━━━━━━\u001b[0m \u001b[32m363.4/363.4 MB\u001b[0m \u001b[31m2.7 MB/s\u001b[0m eta \u001b[36m0:00:00\u001b[0m\n",
            "\u001b[?25hDownloading nvidia_cuda_cupti_cu12-12.4.127-py3-none-manylinux2014_x86_64.whl (13.8 MB)\n",
            "\u001b[2K   \u001b[90m━━━━━━━━━━━━━━━━━━━━━━━━━━━━━━━━━━━━━━━━\u001b[0m \u001b[32m13.8/13.8 MB\u001b[0m \u001b[31m70.2 MB/s\u001b[0m eta \u001b[36m0:00:00\u001b[0m\n",
            "\u001b[?25hDownloading nvidia_cuda_nvrtc_cu12-12.4.127-py3-none-manylinux2014_x86_64.whl (24.6 MB)\n",
            "\u001b[2K   \u001b[90m━━━━━━━━━━━━━━━━━━━━━━━━━━━━━━━━━━━━━━━━\u001b[0m \u001b[32m24.6/24.6 MB\u001b[0m \u001b[31m48.9 MB/s\u001b[0m eta \u001b[36m0:00:00\u001b[0m\n",
            "\u001b[?25hDownloading nvidia_cuda_runtime_cu12-12.4.127-py3-none-manylinux2014_x86_64.whl (883 kB)\n",
            "\u001b[2K   \u001b[90m━━━━━━━━━━━━━━━━━━━━━━━━━━━━━━━━━━━━━━━━\u001b[0m \u001b[32m883.7/883.7 kB\u001b[0m \u001b[31m37.3 MB/s\u001b[0m eta \u001b[36m0:00:00\u001b[0m\n",
            "\u001b[?25hDownloading nvidia_cudnn_cu12-9.1.0.70-py3-none-manylinux2014_x86_64.whl (664.8 MB)\n",
            "\u001b[2K   \u001b[90m━━━━━━━━━━━━━━━━━━━━━━━━━━━━━━━━━━━━━━━\u001b[0m \u001b[32m664.8/664.8 MB\u001b[0m \u001b[31m859.7 kB/s\u001b[0m eta \u001b[36m0:00:00\u001b[0m\n",
            "\u001b[?25hDownloading nvidia_cufft_cu12-11.2.1.3-py3-none-manylinux2014_x86_64.whl (211.5 MB)\n",
            "\u001b[2K   \u001b[90m━━━━━━━━━━━━━━━━━━━━━━━━━━━━━━━━━━━━━━━━\u001b[0m \u001b[32m211.5/211.5 MB\u001b[0m \u001b[31m3.9 MB/s\u001b[0m eta \u001b[36m0:00:00\u001b[0m\n",
            "\u001b[?25hDownloading nvidia_curand_cu12-10.3.5.147-py3-none-manylinux2014_x86_64.whl (56.3 MB)\n",
            "\u001b[2K   \u001b[90m━━━━━━━━━━━━━━━━━━━━━━━━━━━━━━━━━━━━━━━━\u001b[0m \u001b[32m56.3/56.3 MB\u001b[0m \u001b[31m13.1 MB/s\u001b[0m eta \u001b[36m0:00:00\u001b[0m\n",
            "\u001b[?25hDownloading nvidia_cusolver_cu12-11.6.1.9-py3-none-manylinux2014_x86_64.whl (127.9 MB)\n",
            "\u001b[2K   \u001b[90m━━━━━━━━━━━━━━━━━━━━━━━━━━━━━━━━━━━━━━━━\u001b[0m \u001b[32m127.9/127.9 MB\u001b[0m \u001b[31m5.5 MB/s\u001b[0m eta \u001b[36m0:00:00\u001b[0m\n",
            "\u001b[?25hDownloading nvidia_cusparse_cu12-12.3.1.170-py3-none-manylinux2014_x86_64.whl (207.5 MB)\n",
            "\u001b[2K   \u001b[90m━━━━━━━━━━━━━━━━━━━━━━━━━━━━━━━━━━━━━━━━\u001b[0m \u001b[32m207.5/207.5 MB\u001b[0m \u001b[31m6.3 MB/s\u001b[0m eta \u001b[36m0:00:00\u001b[0m\n",
            "\u001b[?25hDownloading nvidia_nvjitlink_cu12-12.4.127-py3-none-manylinux2014_x86_64.whl (21.1 MB)\n",
            "\u001b[2K   \u001b[90m━━━━━━━━━━━━━━━━━━━━━━━━━━━━━━━━━━━━━━━━\u001b[0m \u001b[32m21.1/21.1 MB\u001b[0m \u001b[31m90.3 MB/s\u001b[0m eta \u001b[36m0:00:00\u001b[0m\n",
            "\u001b[?25hInstalling collected packages: nvidia-nvjitlink-cu12, nvidia-curand-cu12, nvidia-cufft-cu12, nvidia-cuda-runtime-cu12, nvidia-cuda-nvrtc-cu12, nvidia-cuda-cupti-cu12, nvidia-cublas-cu12, nvidia-cusparse-cu12, nvidia-cudnn-cu12, nvidia-cusolver-cu12, torchviz\n",
            "  Attempting uninstall: nvidia-nvjitlink-cu12\n",
            "    Found existing installation: nvidia-nvjitlink-cu12 12.5.82\n",
            "    Uninstalling nvidia-nvjitlink-cu12-12.5.82:\n",
            "      Successfully uninstalled nvidia-nvjitlink-cu12-12.5.82\n",
            "  Attempting uninstall: nvidia-curand-cu12\n",
            "    Found existing installation: nvidia-curand-cu12 10.3.6.82\n",
            "    Uninstalling nvidia-curand-cu12-10.3.6.82:\n",
            "      Successfully uninstalled nvidia-curand-cu12-10.3.6.82\n",
            "  Attempting uninstall: nvidia-cufft-cu12\n",
            "    Found existing installation: nvidia-cufft-cu12 11.2.3.61\n",
            "    Uninstalling nvidia-cufft-cu12-11.2.3.61:\n",
            "      Successfully uninstalled nvidia-cufft-cu12-11.2.3.61\n",
            "  Attempting uninstall: nvidia-cuda-runtime-cu12\n",
            "    Found existing installation: nvidia-cuda-runtime-cu12 12.5.82\n",
            "    Uninstalling nvidia-cuda-runtime-cu12-12.5.82:\n",
            "      Successfully uninstalled nvidia-cuda-runtime-cu12-12.5.82\n",
            "  Attempting uninstall: nvidia-cuda-nvrtc-cu12\n",
            "    Found existing installation: nvidia-cuda-nvrtc-cu12 12.5.82\n",
            "    Uninstalling nvidia-cuda-nvrtc-cu12-12.5.82:\n",
            "      Successfully uninstalled nvidia-cuda-nvrtc-cu12-12.5.82\n",
            "  Attempting uninstall: nvidia-cuda-cupti-cu12\n",
            "    Found existing installation: nvidia-cuda-cupti-cu12 12.5.82\n",
            "    Uninstalling nvidia-cuda-cupti-cu12-12.5.82:\n",
            "      Successfully uninstalled nvidia-cuda-cupti-cu12-12.5.82\n",
            "  Attempting uninstall: nvidia-cublas-cu12\n",
            "    Found existing installation: nvidia-cublas-cu12 12.5.3.2\n",
            "    Uninstalling nvidia-cublas-cu12-12.5.3.2:\n",
            "      Successfully uninstalled nvidia-cublas-cu12-12.5.3.2\n",
            "  Attempting uninstall: nvidia-cusparse-cu12\n",
            "    Found existing installation: nvidia-cusparse-cu12 12.5.1.3\n",
            "    Uninstalling nvidia-cusparse-cu12-12.5.1.3:\n",
            "      Successfully uninstalled nvidia-cusparse-cu12-12.5.1.3\n",
            "  Attempting uninstall: nvidia-cudnn-cu12\n",
            "    Found existing installation: nvidia-cudnn-cu12 9.3.0.75\n",
            "    Uninstalling nvidia-cudnn-cu12-9.3.0.75:\n",
            "      Successfully uninstalled nvidia-cudnn-cu12-9.3.0.75\n",
            "  Attempting uninstall: nvidia-cusolver-cu12\n",
            "    Found existing installation: nvidia-cusolver-cu12 11.6.3.83\n",
            "    Uninstalling nvidia-cusolver-cu12-11.6.3.83:\n",
            "      Successfully uninstalled nvidia-cusolver-cu12-11.6.3.83\n",
            "Successfully installed nvidia-cublas-cu12-12.4.5.8 nvidia-cuda-cupti-cu12-12.4.127 nvidia-cuda-nvrtc-cu12-12.4.127 nvidia-cuda-runtime-cu12-12.4.127 nvidia-cudnn-cu12-9.1.0.70 nvidia-cufft-cu12-11.2.1.3 nvidia-curand-cu12-10.3.5.147 nvidia-cusolver-cu12-11.6.1.9 nvidia-cusparse-cu12-12.3.1.170 nvidia-nvjitlink-cu12-12.4.127 torchviz-0.0.3\n"
          ]
        }
      ]
    },
    {
      "cell_type": "code",
      "source": [
        "from torchviz import make_dot\n",
        "\n",
        "x = torch.randn(1, 1, 28, 28).to(device)\n",
        "y = model(x)\n",
        "\n",
        "make_dot(y, params=dict(model.named_parameters()))\n"
      ],
      "metadata": {
        "colab": {
          "base_uri": "https://localhost:8080/",
          "height": 1000
        },
        "id": "Y3_LGYUj9pO9",
        "outputId": "da2838af-2cff-48dc-bb24-54107d984e67"
      },
      "execution_count": 14,
      "outputs": [
        {
          "output_type": "execute_result",
          "data": {
            "image/svg+xml": "<?xml version=\"1.0\" encoding=\"UTF-8\" standalone=\"no\"?>\n<!DOCTYPE svg PUBLIC \"-//W3C//DTD SVG 1.1//EN\"\n \"http://www.w3.org/Graphics/SVG/1.1/DTD/svg11.dtd\">\n<!-- Generated by graphviz version 2.43.0 (0)\n -->\n<!-- Title: %3 Pages: 1 -->\n<svg width=\"519pt\" height=\"765pt\"\n viewBox=\"0.00 0.00 519.00 765.00\" xmlns=\"http://www.w3.org/2000/svg\" xmlns:xlink=\"http://www.w3.org/1999/xlink\">\n<g id=\"graph0\" class=\"graph\" transform=\"scale(1 1) rotate(0) translate(4 761)\">\n<title>%3</title>\n<polygon fill=\"white\" stroke=\"transparent\" points=\"-4,4 -4,-761 515,-761 515,4 -4,4\"/>\n<!-- 139143023737456 -->\n<g id=\"node1\" class=\"node\">\n<title>139143023737456</title>\n<polygon fill=\"#caff70\" stroke=\"black\" points=\"334,-31 269,-31 269,0 334,0 334,-31\"/>\n<text text-anchor=\"middle\" x=\"301.5\" y=\"-7\" font-family=\"monospace\" font-size=\"10.00\"> (1, 10)</text>\n</g>\n<!-- 139143064389520 -->\n<g id=\"node2\" class=\"node\">\n<title>139143064389520</title>\n<polygon fill=\"lightgrey\" stroke=\"black\" points=\"352,-86 251,-86 251,-67 352,-67 352,-86\"/>\n<text text-anchor=\"middle\" x=\"301.5\" y=\"-74\" font-family=\"monospace\" font-size=\"10.00\">AddmmBackward0</text>\n</g>\n<!-- 139143064389520&#45;&gt;139143023737456 -->\n<g id=\"edge28\" class=\"edge\">\n<title>139143064389520&#45;&gt;139143023737456</title>\n<path fill=\"none\" stroke=\"black\" d=\"M301.5,-66.79C301.5,-60.07 301.5,-50.4 301.5,-41.34\"/>\n<polygon fill=\"black\" stroke=\"black\" points=\"305,-41.19 301.5,-31.19 298,-41.19 305,-41.19\"/>\n</g>\n<!-- 139143064394272 -->\n<g id=\"node3\" class=\"node\">\n<title>139143064394272</title>\n<polygon fill=\"lightgrey\" stroke=\"black\" points=\"236,-141 135,-141 135,-122 236,-122 236,-141\"/>\n<text text-anchor=\"middle\" x=\"185.5\" y=\"-129\" font-family=\"monospace\" font-size=\"10.00\">AccumulateGrad</text>\n</g>\n<!-- 139143064394272&#45;&gt;139143064389520 -->\n<g id=\"edge1\" class=\"edge\">\n<title>139143064394272&#45;&gt;139143064389520</title>\n<path fill=\"none\" stroke=\"black\" d=\"M204.14,-121.98C222.8,-113.46 251.75,-100.23 273.24,-90.41\"/>\n<polygon fill=\"black\" stroke=\"black\" points=\"274.88,-93.51 282.52,-86.17 271.97,-87.14 274.88,-93.51\"/>\n</g>\n<!-- 139143023735920 -->\n<g id=\"node4\" class=\"node\">\n<title>139143023735920</title>\n<polygon fill=\"lightblue\" stroke=\"black\" points=\"218,-207 153,-207 153,-177 218,-177 218,-207\"/>\n<text text-anchor=\"middle\" x=\"185.5\" y=\"-195\" font-family=\"monospace\" font-size=\"10.00\">fc2.bias</text>\n<text text-anchor=\"middle\" x=\"185.5\" y=\"-184\" font-family=\"monospace\" font-size=\"10.00\"> (10)</text>\n</g>\n<!-- 139143023735920&#45;&gt;139143064394272 -->\n<g id=\"edge2\" class=\"edge\">\n<title>139143023735920&#45;&gt;139143064394272</title>\n<path fill=\"none\" stroke=\"black\" d=\"M185.5,-176.84C185.5,-169.21 185.5,-159.7 185.5,-151.45\"/>\n<polygon fill=\"black\" stroke=\"black\" points=\"189,-151.27 185.5,-141.27 182,-151.27 189,-151.27\"/>\n</g>\n<!-- 139143064394080 -->\n<g id=\"node5\" class=\"node\">\n<title>139143064394080</title>\n<polygon fill=\"lightgrey\" stroke=\"black\" points=\"349,-141 254,-141 254,-122 349,-122 349,-141\"/>\n<text text-anchor=\"middle\" x=\"301.5\" y=\"-129\" font-family=\"monospace\" font-size=\"10.00\">ReluBackward0</text>\n</g>\n<!-- 139143064394080&#45;&gt;139143064389520 -->\n<g id=\"edge3\" class=\"edge\">\n<title>139143064394080&#45;&gt;139143064389520</title>\n<path fill=\"none\" stroke=\"black\" d=\"M301.5,-121.75C301.5,-114.8 301.5,-104.85 301.5,-96.13\"/>\n<polygon fill=\"black\" stroke=\"black\" points=\"305,-96.09 301.5,-86.09 298,-96.09 305,-96.09\"/>\n</g>\n<!-- 139143064394368 -->\n<g id=\"node6\" class=\"node\">\n<title>139143064394368</title>\n<polygon fill=\"lightgrey\" stroke=\"black\" points=\"344,-201.5 243,-201.5 243,-182.5 344,-182.5 344,-201.5\"/>\n<text text-anchor=\"middle\" x=\"293.5\" y=\"-189.5\" font-family=\"monospace\" font-size=\"10.00\">AddmmBackward0</text>\n</g>\n<!-- 139143064394368&#45;&gt;139143064394080 -->\n<g id=\"edge4\" class=\"edge\">\n<title>139143064394368&#45;&gt;139143064394080</title>\n<path fill=\"none\" stroke=\"black\" d=\"M294.68,-182.37C295.79,-174.25 297.49,-161.81 298.92,-151.39\"/>\n<polygon fill=\"black\" stroke=\"black\" points=\"302.43,-151.55 300.31,-141.17 295.49,-150.6 302.43,-151.55\"/>\n</g>\n<!-- 139143064388464 -->\n<g id=\"node7\" class=\"node\">\n<title>139143064388464</title>\n<polygon fill=\"lightgrey\" stroke=\"black\" points=\"193,-267.5 92,-267.5 92,-248.5 193,-248.5 193,-267.5\"/>\n<text text-anchor=\"middle\" x=\"142.5\" y=\"-255.5\" font-family=\"monospace\" font-size=\"10.00\">AccumulateGrad</text>\n</g>\n<!-- 139143064388464&#45;&gt;139143064394368 -->\n<g id=\"edge5\" class=\"edge\">\n<title>139143064388464&#45;&gt;139143064394368</title>\n<path fill=\"none\" stroke=\"black\" d=\"M162.86,-248.37C188.76,-237.39 233.67,-218.36 263.49,-205.72\"/>\n<polygon fill=\"black\" stroke=\"black\" points=\"265.13,-208.82 272.98,-201.7 262.4,-202.38 265.13,-208.82\"/>\n</g>\n<!-- 139143023737264 -->\n<g id=\"node8\" class=\"node\">\n<title>139143023737264</title>\n<polygon fill=\"lightblue\" stroke=\"black\" points=\"160,-339 95,-339 95,-309 160,-309 160,-339\"/>\n<text text-anchor=\"middle\" x=\"127.5\" y=\"-327\" font-family=\"monospace\" font-size=\"10.00\">fc1.bias</text>\n<text text-anchor=\"middle\" x=\"127.5\" y=\"-316\" font-family=\"monospace\" font-size=\"10.00\"> (128)</text>\n</g>\n<!-- 139143023737264&#45;&gt;139143064388464 -->\n<g id=\"edge6\" class=\"edge\">\n<title>139143023737264&#45;&gt;139143064388464</title>\n<path fill=\"none\" stroke=\"black\" d=\"M130.83,-308.8C132.96,-299.7 135.75,-287.79 138.07,-277.9\"/>\n<polygon fill=\"black\" stroke=\"black\" points=\"141.55,-278.38 140.43,-267.84 134.74,-276.78 141.55,-278.38\"/>\n</g>\n<!-- 139143064393792 -->\n<g id=\"node9\" class=\"node\">\n<title>139143064393792</title>\n<polygon fill=\"lightgrey\" stroke=\"black\" points=\"321,-267.5 226,-267.5 226,-248.5 321,-248.5 321,-267.5\"/>\n<text text-anchor=\"middle\" x=\"273.5\" y=\"-255.5\" font-family=\"monospace\" font-size=\"10.00\">ViewBackward0</text>\n</g>\n<!-- 139143064393792&#45;&gt;139143064394368 -->\n<g id=\"edge7\" class=\"edge\">\n<title>139143064393792&#45;&gt;139143064394368</title>\n<path fill=\"none\" stroke=\"black\" d=\"M276.2,-248.37C279.13,-238.97 283.92,-223.67 287.71,-211.53\"/>\n<polygon fill=\"black\" stroke=\"black\" points=\"291.07,-212.49 290.72,-201.91 284.39,-210.41 291.07,-212.49\"/>\n</g>\n<!-- 139143064392352 -->\n<g id=\"node10\" class=\"node\">\n<title>139143064392352</title>\n<polygon fill=\"lightgrey\" stroke=\"black\" points=\"369,-333.5 178,-333.5 178,-314.5 369,-314.5 369,-333.5\"/>\n<text text-anchor=\"middle\" x=\"273.5\" y=\"-321.5\" font-family=\"monospace\" font-size=\"10.00\">MaxPool2DWithIndicesBackward0</text>\n</g>\n<!-- 139143064392352&#45;&gt;139143064393792 -->\n<g id=\"edge8\" class=\"edge\">\n<title>139143064392352&#45;&gt;139143064393792</title>\n<path fill=\"none\" stroke=\"black\" d=\"M273.5,-314.37C273.5,-305.16 273.5,-290.29 273.5,-278.27\"/>\n<polygon fill=\"black\" stroke=\"black\" points=\"277,-277.91 273.5,-267.91 270,-277.91 277,-277.91\"/>\n</g>\n<!-- 139143064395040 -->\n<g id=\"node11\" class=\"node\">\n<title>139143064395040</title>\n<polygon fill=\"lightgrey\" stroke=\"black\" points=\"321,-399.5 226,-399.5 226,-380.5 321,-380.5 321,-399.5\"/>\n<text text-anchor=\"middle\" x=\"273.5\" y=\"-387.5\" font-family=\"monospace\" font-size=\"10.00\">ReluBackward0</text>\n</g>\n<!-- 139143064395040&#45;&gt;139143064392352 -->\n<g id=\"edge9\" class=\"edge\">\n<title>139143064395040&#45;&gt;139143064392352</title>\n<path fill=\"none\" stroke=\"black\" d=\"M273.5,-380.37C273.5,-371.16 273.5,-356.29 273.5,-344.27\"/>\n<polygon fill=\"black\" stroke=\"black\" points=\"277,-343.91 273.5,-333.91 270,-343.91 277,-343.91\"/>\n</g>\n<!-- 139143064393936 -->\n<g id=\"node12\" class=\"node\">\n<title>139143064393936</title>\n<polygon fill=\"lightgrey\" stroke=\"black\" points=\"342,-460 205,-460 205,-441 342,-441 342,-460\"/>\n<text text-anchor=\"middle\" x=\"273.5\" y=\"-448\" font-family=\"monospace\" font-size=\"10.00\">ConvolutionBackward0</text>\n</g>\n<!-- 139143064393936&#45;&gt;139143064395040 -->\n<g id=\"edge10\" class=\"edge\">\n<title>139143064393936&#45;&gt;139143064395040</title>\n<path fill=\"none\" stroke=\"black\" d=\"M273.5,-440.87C273.5,-432.75 273.5,-420.31 273.5,-409.89\"/>\n<polygon fill=\"black\" stroke=\"black\" points=\"277,-409.67 273.5,-399.67 270,-409.67 277,-409.67\"/>\n</g>\n<!-- 139143064392640 -->\n<g id=\"node13\" class=\"node\">\n<title>139143064392640</title>\n<polygon fill=\"lightgrey\" stroke=\"black\" points=\"205,-515 14,-515 14,-496 205,-496 205,-515\"/>\n<text text-anchor=\"middle\" x=\"109.5\" y=\"-503\" font-family=\"monospace\" font-size=\"10.00\">MaxPool2DWithIndicesBackward0</text>\n</g>\n<!-- 139143064392640&#45;&gt;139143064393936 -->\n<g id=\"edge11\" class=\"edge\">\n<title>139143064392640&#45;&gt;139143064393936</title>\n<path fill=\"none\" stroke=\"black\" d=\"M135.85,-495.98C163.26,-487.13 206.39,-473.19 237.06,-463.28\"/>\n<polygon fill=\"black\" stroke=\"black\" points=\"238.5,-466.49 246.94,-460.08 236.35,-459.83 238.5,-466.49\"/>\n</g>\n<!-- 139143064388704 -->\n<g id=\"node14\" class=\"node\">\n<title>139143064388704</title>\n<polygon fill=\"lightgrey\" stroke=\"black\" points=\"157,-575.5 62,-575.5 62,-556.5 157,-556.5 157,-575.5\"/>\n<text text-anchor=\"middle\" x=\"109.5\" y=\"-563.5\" font-family=\"monospace\" font-size=\"10.00\">ReluBackward0</text>\n</g>\n<!-- 139143064388704&#45;&gt;139143064392640 -->\n<g id=\"edge12\" class=\"edge\">\n<title>139143064388704&#45;&gt;139143064392640</title>\n<path fill=\"none\" stroke=\"black\" d=\"M109.5,-556.37C109.5,-548.25 109.5,-535.81 109.5,-525.39\"/>\n<polygon fill=\"black\" stroke=\"black\" points=\"113,-525.17 109.5,-515.17 106,-525.17 113,-525.17\"/>\n</g>\n<!-- 139143064392160 -->\n<g id=\"node15\" class=\"node\">\n<title>139143064392160</title>\n<polygon fill=\"lightgrey\" stroke=\"black\" points=\"178,-636 41,-636 41,-617 178,-617 178,-636\"/>\n<text text-anchor=\"middle\" x=\"109.5\" y=\"-624\" font-family=\"monospace\" font-size=\"10.00\">ConvolutionBackward0</text>\n</g>\n<!-- 139143064392160&#45;&gt;139143064388704 -->\n<g id=\"edge13\" class=\"edge\">\n<title>139143064392160&#45;&gt;139143064388704</title>\n<path fill=\"none\" stroke=\"black\" d=\"M109.5,-616.87C109.5,-608.75 109.5,-596.31 109.5,-585.89\"/>\n<polygon fill=\"black\" stroke=\"black\" points=\"113,-585.67 109.5,-575.67 106,-585.67 113,-585.67\"/>\n</g>\n<!-- 139143064390720 -->\n<g id=\"node16\" class=\"node\">\n<title>139143064390720</title>\n<polygon fill=\"lightgrey\" stroke=\"black\" points=\"101,-691 0,-691 0,-672 101,-672 101,-691\"/>\n<text text-anchor=\"middle\" x=\"50.5\" y=\"-679\" font-family=\"monospace\" font-size=\"10.00\">AccumulateGrad</text>\n</g>\n<!-- 139143064390720&#45;&gt;139143064392160 -->\n<g id=\"edge14\" class=\"edge\">\n<title>139143064390720&#45;&gt;139143064392160</title>\n<path fill=\"none\" stroke=\"black\" d=\"M59.98,-671.98C68.7,-664.15 81.84,-652.34 92.4,-642.86\"/>\n<polygon fill=\"black\" stroke=\"black\" points=\"94.75,-645.46 99.85,-636.17 90.07,-640.25 94.75,-645.46\"/>\n</g>\n<!-- 139143023736208 -->\n<g id=\"node17\" class=\"node\">\n<title>139143023736208</title>\n<polygon fill=\"lightblue\" stroke=\"black\" points=\"101,-757 0,-757 0,-727 101,-727 101,-757\"/>\n<text text-anchor=\"middle\" x=\"50.5\" y=\"-745\" font-family=\"monospace\" font-size=\"10.00\">conv1.weight</text>\n<text text-anchor=\"middle\" x=\"50.5\" y=\"-734\" font-family=\"monospace\" font-size=\"10.00\"> (16, 1, 3, 3)</text>\n</g>\n<!-- 139143023736208&#45;&gt;139143064390720 -->\n<g id=\"edge15\" class=\"edge\">\n<title>139143023736208&#45;&gt;139143064390720</title>\n<path fill=\"none\" stroke=\"black\" d=\"M50.5,-726.84C50.5,-719.21 50.5,-709.7 50.5,-701.45\"/>\n<polygon fill=\"black\" stroke=\"black\" points=\"54,-701.27 50.5,-691.27 47,-701.27 54,-701.27\"/>\n</g>\n<!-- 139143064391872 -->\n<g id=\"node18\" class=\"node\">\n<title>139143064391872</title>\n<polygon fill=\"lightgrey\" stroke=\"black\" points=\"220,-691 119,-691 119,-672 220,-672 220,-691\"/>\n<text text-anchor=\"middle\" x=\"169.5\" y=\"-679\" font-family=\"monospace\" font-size=\"10.00\">AccumulateGrad</text>\n</g>\n<!-- 139143064391872&#45;&gt;139143064392160 -->\n<g id=\"edge16\" class=\"edge\">\n<title>139143064391872&#45;&gt;139143064392160</title>\n<path fill=\"none\" stroke=\"black\" d=\"M159.86,-671.98C150.99,-664.15 137.63,-652.34 126.89,-642.86\"/>\n<polygon fill=\"black\" stroke=\"black\" points=\"129.13,-640.17 119.32,-636.17 124.49,-645.41 129.13,-640.17\"/>\n</g>\n<!-- 139143023731216 -->\n<g id=\"node19\" class=\"node\">\n<title>139143023731216</title>\n<polygon fill=\"lightblue\" stroke=\"black\" points=\"208,-757 131,-757 131,-727 208,-727 208,-757\"/>\n<text text-anchor=\"middle\" x=\"169.5\" y=\"-745\" font-family=\"monospace\" font-size=\"10.00\">conv1.bias</text>\n<text text-anchor=\"middle\" x=\"169.5\" y=\"-734\" font-family=\"monospace\" font-size=\"10.00\"> (16)</text>\n</g>\n<!-- 139143023731216&#45;&gt;139143064391872 -->\n<g id=\"edge17\" class=\"edge\">\n<title>139143023731216&#45;&gt;139143064391872</title>\n<path fill=\"none\" stroke=\"black\" d=\"M169.5,-726.84C169.5,-719.21 169.5,-709.7 169.5,-701.45\"/>\n<polygon fill=\"black\" stroke=\"black\" points=\"173,-701.27 169.5,-691.27 166,-701.27 173,-701.27\"/>\n</g>\n<!-- 139143064395136 -->\n<g id=\"node20\" class=\"node\">\n<title>139143064395136</title>\n<polygon fill=\"lightgrey\" stroke=\"black\" points=\"324,-515 223,-515 223,-496 324,-496 324,-515\"/>\n<text text-anchor=\"middle\" x=\"273.5\" y=\"-503\" font-family=\"monospace\" font-size=\"10.00\">AccumulateGrad</text>\n</g>\n<!-- 139143064395136&#45;&gt;139143064393936 -->\n<g id=\"edge18\" class=\"edge\">\n<title>139143064395136&#45;&gt;139143064393936</title>\n<path fill=\"none\" stroke=\"black\" d=\"M273.5,-495.75C273.5,-488.8 273.5,-478.85 273.5,-470.13\"/>\n<polygon fill=\"black\" stroke=\"black\" points=\"277,-470.09 273.5,-460.09 270,-470.09 277,-470.09\"/>\n</g>\n<!-- 139143023733136 -->\n<g id=\"node21\" class=\"node\">\n<title>139143023733136</title>\n<polygon fill=\"lightblue\" stroke=\"black\" points=\"327,-581 220,-581 220,-551 327,-551 327,-581\"/>\n<text text-anchor=\"middle\" x=\"273.5\" y=\"-569\" font-family=\"monospace\" font-size=\"10.00\">conv2.weight</text>\n<text text-anchor=\"middle\" x=\"273.5\" y=\"-558\" font-family=\"monospace\" font-size=\"10.00\"> (32, 16, 3, 3)</text>\n</g>\n<!-- 139143023733136&#45;&gt;139143064395136 -->\n<g id=\"edge19\" class=\"edge\">\n<title>139143023733136&#45;&gt;139143064395136</title>\n<path fill=\"none\" stroke=\"black\" d=\"M273.5,-550.84C273.5,-543.21 273.5,-533.7 273.5,-525.45\"/>\n<polygon fill=\"black\" stroke=\"black\" points=\"277,-525.27 273.5,-515.27 270,-525.27 277,-525.27\"/>\n</g>\n<!-- 139143064398160 -->\n<g id=\"node22\" class=\"node\">\n<title>139143064398160</title>\n<polygon fill=\"lightgrey\" stroke=\"black\" points=\"443,-515 342,-515 342,-496 443,-496 443,-515\"/>\n<text text-anchor=\"middle\" x=\"392.5\" y=\"-503\" font-family=\"monospace\" font-size=\"10.00\">AccumulateGrad</text>\n</g>\n<!-- 139143064398160&#45;&gt;139143064393936 -->\n<g id=\"edge20\" class=\"edge\">\n<title>139143064398160&#45;&gt;139143064393936</title>\n<path fill=\"none\" stroke=\"black\" d=\"M373.38,-495.98C354.15,-487.42 324.27,-474.11 302.19,-464.28\"/>\n<polygon fill=\"black\" stroke=\"black\" points=\"303.53,-461.04 292.97,-460.17 300.68,-467.44 303.53,-461.04\"/>\n</g>\n<!-- 139143023734000 -->\n<g id=\"node23\" class=\"node\">\n<title>139143023734000</title>\n<polygon fill=\"lightblue\" stroke=\"black\" points=\"431,-581 354,-581 354,-551 431,-551 431,-581\"/>\n<text text-anchor=\"middle\" x=\"392.5\" y=\"-569\" font-family=\"monospace\" font-size=\"10.00\">conv2.bias</text>\n<text text-anchor=\"middle\" x=\"392.5\" y=\"-558\" font-family=\"monospace\" font-size=\"10.00\"> (32)</text>\n</g>\n<!-- 139143023734000&#45;&gt;139143064398160 -->\n<g id=\"edge21\" class=\"edge\">\n<title>139143023734000&#45;&gt;139143064398160</title>\n<path fill=\"none\" stroke=\"black\" d=\"M392.5,-550.84C392.5,-543.21 392.5,-533.7 392.5,-525.45\"/>\n<polygon fill=\"black\" stroke=\"black\" points=\"396,-525.27 392.5,-515.27 389,-525.27 396,-525.27\"/>\n</g>\n<!-- 139143064389424 -->\n<g id=\"node24\" class=\"node\">\n<title>139143064389424</title>\n<polygon fill=\"lightgrey\" stroke=\"black\" points=\"416,-267.5 339,-267.5 339,-248.5 416,-248.5 416,-267.5\"/>\n<text text-anchor=\"middle\" x=\"377.5\" y=\"-255.5\" font-family=\"monospace\" font-size=\"10.00\">TBackward0</text>\n</g>\n<!-- 139143064389424&#45;&gt;139143064394368 -->\n<g id=\"edge22\" class=\"edge\">\n<title>139143064389424&#45;&gt;139143064394368</title>\n<path fill=\"none\" stroke=\"black\" d=\"M366.17,-248.37C352.64,-238.06 329.78,-220.65 313.31,-208.09\"/>\n<polygon fill=\"black\" stroke=\"black\" points=\"314.99,-204.98 304.92,-201.7 310.75,-210.54 314.99,-204.98\"/>\n</g>\n<!-- 139143064394992 -->\n<g id=\"node25\" class=\"node\">\n<title>139143064394992</title>\n<polygon fill=\"lightgrey\" stroke=\"black\" points=\"488,-333.5 387,-333.5 387,-314.5 488,-314.5 488,-333.5\"/>\n<text text-anchor=\"middle\" x=\"437.5\" y=\"-321.5\" font-family=\"monospace\" font-size=\"10.00\">AccumulateGrad</text>\n</g>\n<!-- 139143064394992&#45;&gt;139143064389424 -->\n<g id=\"edge23\" class=\"edge\">\n<title>139143064394992&#45;&gt;139143064389424</title>\n<path fill=\"none\" stroke=\"black\" d=\"M429.41,-314.37C420.07,-304.4 404.49,-287.79 392.84,-275.36\"/>\n<polygon fill=\"black\" stroke=\"black\" points=\"395.24,-272.81 385.85,-267.91 390.13,-277.59 395.24,-272.81\"/>\n</g>\n<!-- 139143023735728 -->\n<g id=\"node26\" class=\"node\">\n<title>139143023735728</title>\n<polygon fill=\"lightblue\" stroke=\"black\" points=\"482,-405 393,-405 393,-375 482,-375 482,-405\"/>\n<text text-anchor=\"middle\" x=\"437.5\" y=\"-393\" font-family=\"monospace\" font-size=\"10.00\">fc1.weight</text>\n<text text-anchor=\"middle\" x=\"437.5\" y=\"-382\" font-family=\"monospace\" font-size=\"10.00\"> (128, 1568)</text>\n</g>\n<!-- 139143023735728&#45;&gt;139143064394992 -->\n<g id=\"edge24\" class=\"edge\">\n<title>139143023735728&#45;&gt;139143064394992</title>\n<path fill=\"none\" stroke=\"black\" d=\"M437.5,-374.8C437.5,-365.7 437.5,-353.79 437.5,-343.9\"/>\n<polygon fill=\"black\" stroke=\"black\" points=\"441,-343.84 437.5,-333.84 434,-343.84 441,-343.84\"/>\n</g>\n<!-- 139143064389040 -->\n<g id=\"node27\" class=\"node\">\n<title>139143064389040</title>\n<polygon fill=\"lightgrey\" stroke=\"black\" points=\"467,-141 390,-141 390,-122 467,-122 467,-141\"/>\n<text text-anchor=\"middle\" x=\"428.5\" y=\"-129\" font-family=\"monospace\" font-size=\"10.00\">TBackward0</text>\n</g>\n<!-- 139143064389040&#45;&gt;139143064389520 -->\n<g id=\"edge25\" class=\"edge\">\n<title>139143064389040&#45;&gt;139143064389520</title>\n<path fill=\"none\" stroke=\"black\" d=\"M408.1,-121.98C387.48,-113.38 355.39,-99.99 331.81,-90.15\"/>\n<polygon fill=\"black\" stroke=\"black\" points=\"332.85,-86.79 322.28,-86.17 330.16,-93.25 332.85,-86.79\"/>\n</g>\n<!-- 139143064388512 -->\n<g id=\"node28\" class=\"node\">\n<title>139143064388512</title>\n<polygon fill=\"lightgrey\" stroke=\"black\" points=\"503,-201.5 402,-201.5 402,-182.5 503,-182.5 503,-201.5\"/>\n<text text-anchor=\"middle\" x=\"452.5\" y=\"-189.5\" font-family=\"monospace\" font-size=\"10.00\">AccumulateGrad</text>\n</g>\n<!-- 139143064388512&#45;&gt;139143064389040 -->\n<g id=\"edge26\" class=\"edge\">\n<title>139143064388512&#45;&gt;139143064389040</title>\n<path fill=\"none\" stroke=\"black\" d=\"M448.96,-182.37C445.56,-174.07 440.31,-161.28 435.98,-150.72\"/>\n<polygon fill=\"black\" stroke=\"black\" points=\"439.09,-149.09 432.06,-141.17 432.61,-151.75 439.09,-149.09\"/>\n</g>\n<!-- 139143023736880 -->\n<g id=\"node29\" class=\"node\">\n<title>139143023736880</title>\n<polygon fill=\"lightblue\" stroke=\"black\" points=\"511,-273 434,-273 434,-243 511,-243 511,-273\"/>\n<text text-anchor=\"middle\" x=\"472.5\" y=\"-261\" font-family=\"monospace\" font-size=\"10.00\">fc2.weight</text>\n<text text-anchor=\"middle\" x=\"472.5\" y=\"-250\" font-family=\"monospace\" font-size=\"10.00\"> (10, 128)</text>\n</g>\n<!-- 139143023736880&#45;&gt;139143064388512 -->\n<g id=\"edge27\" class=\"edge\">\n<title>139143023736880&#45;&gt;139143064388512</title>\n<path fill=\"none\" stroke=\"black\" d=\"M468.06,-242.8C465.19,-233.6 461.42,-221.53 458.31,-211.58\"/>\n<polygon fill=\"black\" stroke=\"black\" points=\"461.59,-210.35 455.26,-201.84 454.91,-212.43 461.59,-210.35\"/>\n</g>\n</g>\n</svg>\n",
            "text/plain": [
              "<graphviz.graphs.Digraph at 0x7e8cc4ed45d0>"
            ]
          },
          "metadata": {},
          "execution_count": 14
        }
      ]
    },
    {
      "cell_type": "code",
      "source": [],
      "metadata": {
        "id": "Y3S4yIhE-giC"
      },
      "execution_count": null,
      "outputs": []
    }
  ]
}